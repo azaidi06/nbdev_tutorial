{
 "cells": [
  {
   "cell_type": "code",
   "execution_count": null,
   "metadata": {},
   "outputs": [],
   "source": [
    "#| default_exp deck"
   ]
  },
  {
   "cell_type": "markdown",
   "metadata": {},
   "source": [
    "# Deck\n",
    "\n",
    "> Deck of playing cards"
   ]
  },
  {
   "cell_type": "code",
   "execution_count": null,
   "metadata": {},
   "outputs": [],
   "source": [
    "#|hide\n",
    "from nbdev.showdoc import *\n",
    "from nbdev_tutorial import *"
   ]
  },
  {
   "cell_type": "code",
   "execution_count": null,
   "metadata": {},
   "outputs": [],
   "source": [
    "#|export\n",
    "from nbdev_tutorial.card import *\n",
    "from fastcore.basics import *\n",
    "from fastcore.test import *\n",
    "import random"
   ]
  },
  {
   "cell_type": "code",
   "execution_count": null,
   "metadata": {},
   "outputs": [],
   "source": [
    "#|export\n",
    "class Deck:\n",
    "    \"Represents a deck of cards\"\n",
    "    def __init__(self): self.cards = [Card(s, r) for s in range(4) for r in range(1, 14)]\n",
    "    def __str__(self): return '; '.join(map(str, self.cards))\n",
    "    def __len__(self): return len(self.cards)\n",
    "    def __contains__(self, card): return card in self.cards\n",
    "    __repr__ = __str__\n",
    "    \n",
    "    def add(self,\n",
    "            card:Card): # Card to add\n",
    "        \"Adds `card` to the deck\"\n",
    "        self.cards.append(card)\n",
    "\n",
    "    def remove(self,\n",
    "               card:Card): # Card to remove\n",
    "        \"Removes `card` from the deck or raises exception if it is not there\"\n",
    "        self.cards.remove(card)\n",
    "\n",
    "    def shuffle(self):\n",
    "        \"Shuffles the cards in this deck\"\n",
    "        random.shuffle(self.cards)"
   ]
  },
  {
   "cell_type": "code",
   "execution_count": null,
   "metadata": {},
   "outputs": [
    {
     "data": {
      "text/plain": [
       "A of ♣️; 2 of ♣️; 3 of ♣️; 4 of ♣️; 5 of ♣️; 6 of ♣️; 7 of ♣️; 8 of ♣️; 9 of ♣️; 10 of ♣️; J of ♣️; Q of ♣️; K of ♣️; A of ♦️; 2 of ♦️; 3 of ♦️; 4 of ♦️; 5 of ♦️; 6 of ♦️; 7 of ♦️; 8 of ♦️; 9 of ♦️; 10 of ♦️; J of ♦️; Q of ♦️; K of ♦️; A of ❤️; 2 of ❤️; 3 of ❤️; 4 of ❤️; 5 of ❤️; 6 of ❤️; 7 of ❤️; 8 of ❤️; 9 of ❤️; 10 of ❤️; J of ❤️; Q of ❤️; K of ❤️; A of ♠️; 2 of ♠️; 3 of ♠️; 4 of ♠️; 5 of ♠️; 6 of ♠️; 7 of ♠️; 8 of ♠️; 9 of ♠️; 10 of ♠️; J of ♠️; Q of ♠️; K of ♠️"
      ]
     },
     "execution_count": null,
     "metadata": {},
     "output_type": "execute_result"
    }
   ],
   "source": [
    "Deck()"
   ]
  },
  {
   "cell_type": "code",
   "execution_count": null,
   "metadata": {},
   "outputs": [
    {
     "data": {
      "text/markdown": [
       "---\n",
       "\n",
       "### Deck\n",
       "\n",
       ">      Deck ()\n",
       "\n",
       "Represents a deck of cards"
      ],
      "text/plain": [
       "<nbdev.showdoc.BasicMarkdownRenderer>"
      ]
     },
     "execution_count": null,
     "metadata": {},
     "output_type": "execute_result"
    }
   ],
   "source": [
    "show_doc(Deck)"
   ]
  },
  {
   "cell_type": "code",
   "execution_count": null,
   "metadata": {},
   "outputs": [],
   "source": []
  }
 ],
 "metadata": {
  "kernelspec": {
   "display_name": "Python 3 (ipykernel)",
   "language": "python",
   "name": "python3"
  }
 },
 "nbformat": 4,
 "nbformat_minor": 4
}
