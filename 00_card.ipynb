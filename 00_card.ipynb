{
 "cells": [
  {
   "cell_type": "code",
   "execution_count": null,
   "metadata": {},
   "outputs": [],
   "source": [
    "#| default_exp card"
   ]
  },
  {
   "cell_type": "markdown",
   "metadata": {},
   "source": [
    "# CARD: basic playing card\n",
    "\n",
    "> simple api for creating and using cards"
   ]
  },
  {
   "cell_type": "code",
   "execution_count": null,
   "metadata": {},
   "outputs": [],
   "source": [
    "#|hide\n",
    "from nbdev.showdoc import *\n",
    "from fastcore.all import *"
   ]
  },
  {
   "cell_type": "code",
   "execution_count": null,
   "metadata": {},
   "outputs": [],
   "source": [
    "#|export\n",
    "suits = [\"♣️\", \"♦️\", \"❤️\", \"♠️\"]\n",
    "ranks = [None, \"A\"] + [str(x) for x in range(2,11)]  + [\"J\", \"Q\", \"K\"]"
   ]
  },
  {
   "cell_type": "code",
   "execution_count": null,
   "metadata": {},
   "outputs": [],
   "source": [
    "#|export\n",
    "class Card:\n",
    "    \"Represents a standard playing card.\"\n",
    "    def __init__(self, \n",
    "                 suit=0, rank=2): \n",
    "                 #suit=0, #the suit of the card \n",
    "                 #rank=2): #the rank of the card\n",
    "        self.suit = suit \n",
    "        self.rank = rank \n",
    "        self.suit_nm,self.rank_nm = suits[self.suit],ranks[self.rank]\n",
    "\n",
    "    def __eq__(self, other): \n",
    "        return (self.suit, self.rank) == (other.suit, other.rank)\n",
    "    def __lt__(self, other): \n",
    "        return (self.suit, self.rank) < (other.suit, other.rank)\n",
    "    def __str__(self): \n",
    "        return f'{self.rank_nm} of {self.suit_nm}'\n",
    "    __repr__ = __str__\n",
    "    "
   ]
  },
  {
   "cell_type": "code",
   "execution_count": null,
   "metadata": {},
   "outputs": [
    {
     "data": {
      "text/plain": [
       "2 of ♣️"
      ]
     },
     "execution_count": null,
     "metadata": {},
     "output_type": "execute_result"
    }
   ],
   "source": [
    "Card()"
   ]
  },
  {
   "cell_type": "code",
   "execution_count": null,
   "metadata": {},
   "outputs": [
    {
     "data": {
      "text/markdown": [
       "---\n",
       "\n",
       "### Card\n",
       "\n",
       ">      Card (suit=0, rank=2)\n",
       "\n",
       "Represents a standard playing card."
      ],
      "text/plain": [
       "<nbdev.showdoc.BasicMarkdownRenderer>"
      ]
     },
     "execution_count": null,
     "metadata": {},
     "output_type": "execute_result"
    }
   ],
   "source": [
    "show_doc(Card)"
   ]
  },
  {
   "cell_type": "code",
   "execution_count": null,
   "metadata": {},
   "outputs": [
    {
     "data": {
      "text/plain": [
       "(2 of ♣️, A of ♦️)"
      ]
     },
     "execution_count": null,
     "metadata": {},
     "output_type": "execute_result"
    }
   ],
   "source": [
    "test_eq(Card(), Card()) #check that the cards are the same\n",
    "test_ne(Card(), Card(1,1)) #test that cards are not the same\n",
    "Card(), Card(1,1) #show the cards being used"
   ]
  },
  {
   "cell_type": "code",
   "execution_count": null,
   "metadata": {},
   "outputs": [],
   "source": [
    "#test_eq(Card(), Card(1,1))"
   ]
  },
  {
   "cell_type": "code",
   "execution_count": null,
   "metadata": {},
   "outputs": [],
   "source": []
  }
 ],
 "metadata": {
  "kernelspec": {
   "display_name": "Python 3 (ipykernel)",
   "language": "python",
   "name": "python3"
  }
 },
 "nbformat": 4,
 "nbformat_minor": 4
}
