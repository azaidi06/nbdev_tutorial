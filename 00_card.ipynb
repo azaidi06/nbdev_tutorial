{
 "cells": [
  {
   "cell_type": "code",
   "execution_count": null,
   "metadata": {},
   "outputs": [],
   "source": [
    "#| default_exp card"
   ]
  },
  {
   "cell_type": "markdown",
   "metadata": {},
   "source": [
    "# CARD: A basic playing card\n",
    "\n",
    "> simple api for creating and using cards"
   ]
  },
  {
   "cell_type": "code",
   "execution_count": null,
   "metadata": {},
   "outputs": [],
   "source": [
    "#|hide\n",
    "from nbdev.showdoc import *"
   ]
  },
  {
   "cell_type": "code",
   "execution_count": null,
   "metadata": {},
   "outputs": [],
   "source": [
    "#|export\n",
    "suits = [\"♣️\", \"♦️\", \"❤️\", \"♠️\"]\n",
    "ranks = [None, \"A\"] + [str(x) for x in range(2,11)]  + [\"J\", \"Q\", \"K\"]"
   ]
  },
  {
   "cell_type": "code",
   "execution_count": null,
   "metadata": {},
   "outputs": [],
   "source": [
    "#|export\n",
    "class Card:\n",
    "    \"Represents a standard playing card.\"\n",
    "    def __init__(self, suit=0, rank=2):\n",
    "        self.suit,self.rank = suit, rank\n",
    "        self.suit_nm,self.rank_nm = suits[self.suit],ranks[self.rank]\n",
    "\n",
    "    def __eq__(self, other): return (self.suit, self.rank) == (other.suit, other.rank)\n",
    "    def __lt__(self, other): return (self.suit, self.rank) < (other.suit, other.rank)\n",
    "    def __str__(self): return f'{self.rank_nm}{self.suit_nm}'\n",
    "    __repr__ = __str__"
   ]
  },
  {
   "cell_type": "code",
   "execution_count": null,
   "metadata": {},
   "outputs": [
    {
     "name": "stdout",
     "output_type": "stream",
     "text": [
      "00_card.ipynb LICENSE       README.md     index.ipynb   setup.py\n",
      "01_deck.ipynb MANIFEST.in   _quarto.yml   settings.ini  styles.css\n"
     ]
    }
   ],
   "source": [
    "!ls"
   ]
  },
  {
   "cell_type": "code",
   "execution_count": null,
   "metadata": {},
   "outputs": [
    {
     "data": {
      "text/markdown": [
       "---\n",
       "\n",
       "### Card\n",
       "\n",
       ">      Card (suit=0, rank=2)\n",
       "\n",
       "Represents a standard playing card."
      ],
      "text/plain": [
       "<nbdev.showdoc.BasicMarkdownRenderer>"
      ]
     },
     "execution_count": null,
     "metadata": {},
     "output_type": "execute_result"
    }
   ],
   "source": [
    "show_doc(Card)"
   ]
  },
  {
   "cell_type": "code",
   "execution_count": null,
   "metadata": {},
   "outputs": [],
   "source": []
  }
 ],
 "metadata": {
  "kernelspec": {
   "display_name": "Python 3 (ipykernel)",
   "language": "python",
   "name": "python3"
  }
 },
 "nbformat": 4,
 "nbformat_minor": 4
}
